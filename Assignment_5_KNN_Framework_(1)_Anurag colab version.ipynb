{
  "cells": [
    {
      "cell_type": "markdown",
      "source": [
        "In this assignment, you will exercise the idea of getting code ready in a single node machine (Google Colab) and then deploy the code as-is in multi-node big data platform (GCP Dataproc).\n",
        "\n",
        "An evident benefit of doing so is to save the cost of cloud computing. Please\n",
        "- first, run and test your code in Google Colab first\n",
        "- then, after everything works, you will go to GCP following the cloud computing procedure we have learned:\n",
        " - create a cluster (for immediate assistance on this step, please refer to Lab 1b)\n",
        " - start JupyterLab from the cluster and run the code in PySpark environment there (for immediate assistance, please refer to Lab 3 or Lab 4)"
      ],
      "metadata": {
        "id": "TOrubeUJmOHe"
      },
      "id": "TOrubeUJmOHe"
    },
    {
      "cell_type": "code",
      "execution_count": null,
      "id": "105b73de-0310-4dae-a13b-22f1402f5e97",
      "metadata": {
        "tags": [],
        "id": "105b73de-0310-4dae-a13b-22f1402f5e97",
        "outputId": "c32a5c4e-b554-48ca-8953-abd132d449db",
        "colab": {
          "base_uri": "https://localhost:8080/"
        }
      },
      "outputs": [
        {
          "output_type": "stream",
          "name": "stdout",
          "text": [
            "Running on CoLab\n"
          ]
        }
      ],
      "source": [
        "# Check if the code is running in Colab\n",
        "if 'google.colab' in str(get_ipython()):\n",
        "  print('Running on CoLab')\n",
        "  RunningInColab = True\n",
        "else:\n",
        "  print('Not running on CoLab')\n",
        "  RunningInColab = False"
      ]
    },
    {
      "cell_type": "code",
      "source": [
        "# PySpark Pearson correlation function for distributed data processing\n",
        "\n",
        "# Access configuration to GCP Cloud Storage\n",
        "\n",
        "from pyspark.sql import SparkSession\n",
        "from pyspark.sql.functions import col, avg, sqrt\n",
        "from pyspark.sql.types import StructType, StructField, FloatType, IntegerType, DoubleType\n",
        "from scipy.stats import pearsonr\n",
        "from itertools import combinations\n",
        "\n",
        "# 1. Configure the Project ID (not Project Name!!!) as per your GCP Dataproc setup\n",
        "project_id = 'amishr96-cis415-2025springc'\n",
        "\n",
        "# 2. Configure Bucket name as per your Google Cloud Storage setup\n",
        "bucket = 'amishr96_data_for_gcp_labs'\n",
        "\n",
        "# 3. Configure the path to the movie reviews data file as per your Google Cloud Storage setup\n",
        "path_to_data_files = \"/data_for_assignment/\"\n",
        "movie_reviews_file_name = \"movie_ratings (1).csv\"\n",
        "relative_path_to_file = path_to_data_files[1:] + movie_reviews_file_name\n",
        "full_file_path = \"gs://\" + bucket + \"/\" + relative_path_to_file\n",
        "\n",
        "print(f\"ProjectID (and not the Project Name) is: {project_id}\")\n",
        "print(f\"Bucket name is: {bucket}\")"
      ],
      "metadata": {
        "colab": {
          "base_uri": "https://localhost:8080/"
        },
        "id": "IjAXAEUia5Hq",
        "outputId": "0d8460b1-beec-428c-ed03-497ea39330a4"
      },
      "id": "IjAXAEUia5Hq",
      "execution_count": null,
      "outputs": [
        {
          "output_type": "stream",
          "name": "stdout",
          "text": [
            "ProjectID (and not the Project Name) is: amishr96-cis415-2025springc\n",
            "Bucket name is: amishr96_data_for_gcp_labs\n"
          ]
        }
      ]
    },
    {
      "cell_type": "code",
      "source": [
        "# Typically, any big data platform (like GCP Dataproc) will have PySpark pre-installed\n",
        "# This might not be the case in other platforms.\n",
        "# This paragraph is to check if PySpark is available in the system and install if it's not available\n",
        "# You should expect this paragraph to RUN the PySpark installation in Google Colab\n",
        "# You should expect this paragraph NOT TO RUN the PySpark installation in GCP Dataproc\n",
        "\n",
        "try:\n",
        "  from pyspark.sql import SparkSession\n",
        "  pyspark_available = 'Y'\n",
        "except:\n",
        "  pyspark_available = 'N'\n",
        "\n",
        "# If PySpark is not installed, then go through all these steps\n",
        "\n",
        "if pyspark_available == 'N':\n",
        "  # Update Installer\n",
        "  !apt-get update\n",
        "\n",
        "  # Intsall Java\n",
        "  !apt-get install openjdk-8-jdk-headless -qq > /dev/null\n",
        "\n",
        "  # install spark (change the version number if needed)\n",
        "  !wget -q https://archive.apache.org/dist/spark/spark-3.0.0/spark-3.0.0-bin-hadoop3.2.tgz\n",
        "\n",
        "  # unzip the spark file to the current folder\n",
        "  !tar xf spark-3.0.0-bin-hadoop3.2.tgz\n",
        "\n",
        "  # set your spark folder to your system path environment.\n",
        "  import os\n",
        "  os.environ[\"JAVA_HOME\"] = \"/usr/lib/jvm/java-8-openjdk-amd64\"\n",
        "  os.environ[\"SPARK_HOME\"] = \"/content/spark-3.0.0-bin-hadoop3.2\"\n",
        "\n",
        "  # install findspark using pip\n",
        "  !pip install -q findspark\n",
        "\n",
        "  import findspark\n",
        "  findspark.init()\n",
        "\n",
        "else:\n",
        "    # Spark / PySpark already pre-installed in the environment\n",
        "    print(\"PySpark already pre-installed!\")\n"
      ],
      "metadata": {
        "colab": {
          "base_uri": "https://localhost:8080/"
        },
        "id": "P7rHb-aKbWTw",
        "outputId": "0e334cc2-7d32-4d06-fadd-d7491eeb3dc9"
      },
      "id": "P7rHb-aKbWTw",
      "execution_count": null,
      "outputs": [
        {
          "output_type": "stream",
          "name": "stdout",
          "text": [
            "PySpark already pre-installed!\n"
          ]
        }
      ]
    },
    {
      "cell_type": "code",
      "source": [
        "# Authorize access from Colab to GCP Cloud Storage\n",
        "from google.cloud import storage\n",
        "client = storage.Client()\n",
        "print(f\"Package imports done\")\n",
        "\n",
        "if RunningInColab == True:\n",
        "  # To access Google Cloud Storage\n",
        "  from google.cloud import storage\n",
        "  import google.auth\n",
        "\n",
        "  !pip install gcsfs\n",
        "  import gcsfs\n",
        "\n",
        "  from google.colab import auth\n",
        "  auth.authenticate_user()\n",
        "\n",
        "  credentials, default_project_id = google.auth.default()\n",
        "  !gcloud config set project {project_id}\n",
        "\n",
        "\n"
      ],
      "metadata": {
        "colab": {
          "base_uri": "https://localhost:8080/"
        },
        "id": "AhH9Fb1VbbnC",
        "outputId": "a51e75d5-daaa-4e3f-9d80-c5199a941444"
      },
      "id": "AhH9Fb1VbbnC",
      "execution_count": null,
      "outputs": [
        {
          "output_type": "stream",
          "name": "stdout",
          "text": [
            "Package imports done\n",
            "Requirement already satisfied: gcsfs in /usr/local/lib/python3.11/dist-packages (2025.3.2)\n",
            "Requirement already satisfied: aiohttp!=4.0.0a0,!=4.0.0a1 in /usr/local/lib/python3.11/dist-packages (from gcsfs) (3.11.15)\n",
            "Requirement already satisfied: decorator>4.1.2 in /usr/local/lib/python3.11/dist-packages (from gcsfs) (4.4.2)\n",
            "Requirement already satisfied: fsspec==2025.3.2 in /usr/local/lib/python3.11/dist-packages (from gcsfs) (2025.3.2)\n",
            "Requirement already satisfied: google-auth>=1.2 in /usr/local/lib/python3.11/dist-packages (from gcsfs) (2.38.0)\n",
            "Requirement already satisfied: google-auth-oauthlib in /usr/local/lib/python3.11/dist-packages (from gcsfs) (1.2.1)\n",
            "Requirement already satisfied: google-cloud-storage in /usr/local/lib/python3.11/dist-packages (from gcsfs) (2.19.0)\n",
            "Requirement already satisfied: requests in /usr/local/lib/python3.11/dist-packages (from gcsfs) (2.32.3)\n",
            "Requirement already satisfied: aiohappyeyeballs>=2.3.0 in /usr/local/lib/python3.11/dist-packages (from aiohttp!=4.0.0a0,!=4.0.0a1->gcsfs) (2.6.1)\n",
            "Requirement already satisfied: aiosignal>=1.1.2 in /usr/local/lib/python3.11/dist-packages (from aiohttp!=4.0.0a0,!=4.0.0a1->gcsfs) (1.3.2)\n",
            "Requirement already satisfied: attrs>=17.3.0 in /usr/local/lib/python3.11/dist-packages (from aiohttp!=4.0.0a0,!=4.0.0a1->gcsfs) (25.3.0)\n",
            "Requirement already satisfied: frozenlist>=1.1.1 in /usr/local/lib/python3.11/dist-packages (from aiohttp!=4.0.0a0,!=4.0.0a1->gcsfs) (1.5.0)\n",
            "Requirement already satisfied: multidict<7.0,>=4.5 in /usr/local/lib/python3.11/dist-packages (from aiohttp!=4.0.0a0,!=4.0.0a1->gcsfs) (6.3.2)\n",
            "Requirement already satisfied: propcache>=0.2.0 in /usr/local/lib/python3.11/dist-packages (from aiohttp!=4.0.0a0,!=4.0.0a1->gcsfs) (0.3.1)\n",
            "Requirement already satisfied: yarl<2.0,>=1.17.0 in /usr/local/lib/python3.11/dist-packages (from aiohttp!=4.0.0a0,!=4.0.0a1->gcsfs) (1.18.3)\n",
            "Requirement already satisfied: cachetools<6.0,>=2.0.0 in /usr/local/lib/python3.11/dist-packages (from google-auth>=1.2->gcsfs) (5.5.2)\n",
            "Requirement already satisfied: pyasn1-modules>=0.2.1 in /usr/local/lib/python3.11/dist-packages (from google-auth>=1.2->gcsfs) (0.4.2)\n",
            "Requirement already satisfied: rsa<5,>=3.1.4 in /usr/local/lib/python3.11/dist-packages (from google-auth>=1.2->gcsfs) (4.9)\n",
            "Requirement already satisfied: requests-oauthlib>=0.7.0 in /usr/local/lib/python3.11/dist-packages (from google-auth-oauthlib->gcsfs) (2.0.0)\n",
            "Requirement already satisfied: google-api-core<3.0.0dev,>=2.15.0 in /usr/local/lib/python3.11/dist-packages (from google-cloud-storage->gcsfs) (2.24.2)\n",
            "Requirement already satisfied: google-cloud-core<3.0dev,>=2.3.0 in /usr/local/lib/python3.11/dist-packages (from google-cloud-storage->gcsfs) (2.4.3)\n",
            "Requirement already satisfied: google-resumable-media>=2.7.2 in /usr/local/lib/python3.11/dist-packages (from google-cloud-storage->gcsfs) (2.7.2)\n",
            "Requirement already satisfied: google-crc32c<2.0dev,>=1.0 in /usr/local/lib/python3.11/dist-packages (from google-cloud-storage->gcsfs) (1.7.1)\n",
            "Requirement already satisfied: charset-normalizer<4,>=2 in /usr/local/lib/python3.11/dist-packages (from requests->gcsfs) (3.4.1)\n",
            "Requirement already satisfied: idna<4,>=2.5 in /usr/local/lib/python3.11/dist-packages (from requests->gcsfs) (3.10)\n",
            "Requirement already satisfied: urllib3<3,>=1.21.1 in /usr/local/lib/python3.11/dist-packages (from requests->gcsfs) (2.3.0)\n",
            "Requirement already satisfied: certifi>=2017.4.17 in /usr/local/lib/python3.11/dist-packages (from requests->gcsfs) (2025.1.31)\n",
            "Requirement already satisfied: googleapis-common-protos<2.0.0,>=1.56.2 in /usr/local/lib/python3.11/dist-packages (from google-api-core<3.0.0dev,>=2.15.0->google-cloud-storage->gcsfs) (1.69.2)\n",
            "Requirement already satisfied: protobuf!=3.20.0,!=3.20.1,!=4.21.0,!=4.21.1,!=4.21.2,!=4.21.3,!=4.21.4,!=4.21.5,<7.0.0,>=3.19.5 in /usr/local/lib/python3.11/dist-packages (from google-api-core<3.0.0dev,>=2.15.0->google-cloud-storage->gcsfs) (5.29.4)\n",
            "Requirement already satisfied: proto-plus<2.0.0,>=1.22.3 in /usr/local/lib/python3.11/dist-packages (from google-api-core<3.0.0dev,>=2.15.0->google-cloud-storage->gcsfs) (1.26.1)\n",
            "Requirement already satisfied: pyasn1<0.7.0,>=0.6.1 in /usr/local/lib/python3.11/dist-packages (from pyasn1-modules>=0.2.1->google-auth>=1.2->gcsfs) (0.6.1)\n",
            "Requirement already satisfied: oauthlib>=3.0.0 in /usr/local/lib/python3.11/dist-packages (from requests-oauthlib>=0.7.0->google-auth-oauthlib->gcsfs) (3.2.2)\n",
            "Updated property [core/project].\n"
          ]
        }
      ]
    },
    {
      "cell_type": "code",
      "source": [
        "# Creat a Spark session if in Google Colab\n",
        "from pyspark.sql import SparkSession\n",
        "\n",
        "if RunningInColab == True:\n",
        "    spark = SparkSession.builder.master(\"local[*]\").getOrCreate()\n"
      ],
      "metadata": {
        "id": "R_QOt7Vdbtp4"
      },
      "id": "R_QOt7Vdbtp4",
      "execution_count": null,
      "outputs": []
    },
    {
      "cell_type": "code",
      "execution_count": null,
      "id": "84a7107c-a664-46f0-a2ef-950f747aabfb",
      "metadata": {
        "tags": [],
        "id": "84a7107c-a664-46f0-a2ef-950f747aabfb",
        "outputId": "87782b9a-e1e1-4536-9b7a-b1cd2e51aad5",
        "colab": {
          "base_uri": "https://localhost:8080/"
        }
      },
      "outputs": [
        {
          "output_type": "stream",
          "name": "stdout",
          "text": [
            "bucket_name=amishr96_data_for_gcp_labs\n",
            "relative_path_to_file = data_for_assignment/movie_ratings (1).csv\n",
            "Downloading the file from GCS to a local file in Colab\n",
            "amishr96_data_for_gcp_labs\n",
            "<Blob: amishr96_data_for_gcp_labs, data_for_assignment/movie_ratings (1).csv, None>\n",
            "Reading the local file using spark\n",
            "+-------+---------+------------------+------------------+------------------+------------------+\n",
            "|summary|     Name|         Inception|           Titanic|            Avatar|        The Matrix|\n",
            "+-------+---------+------------------+------------------+------------------+------------------+\n",
            "|  count|      100|               100|               100|               100|               100|\n",
            "|   mean|     NULL| 3.113999999999999|2.9800000000000004|3.1839999999999997|2.9620000000000006|\n",
            "| stddev|     NULL|1.1372499170091743|1.2192894105447922|1.1451893231507992|1.0880229498470788|\n",
            "|    min|Alexander|               1.0|               1.0|               1.0|               1.0|\n",
            "|    max|  William|               5.0|               5.0|               4.9|               4.9|\n",
            "+-------+---------+------------------+------------------+------------------+------------------+\n",
            "\n",
            "Total number of records from data file = 100\n"
          ]
        }
      ],
      "source": [
        "# READ DATA\n",
        "\n",
        "if RunningInColab == True:\n",
        "  # Currently, it's not easy to read files from Google Storage using spark.read.csv in Google Colab.\n",
        "  # As a workaround, we will copy the file from Google Storage to a local file in the runtime machine on which Colab is running.\n",
        "\n",
        "  # Initialize a Google Cloud Storage client\n",
        "  storage_client = storage.Client()\n",
        "\n",
        "  # Download the file from GCS to a local file in the default folder \"/content\" in the runtime machine of colab\n",
        "  temp_file_path = \"/content/\"+ movie_reviews_file_name\n",
        "\n",
        "  print(f\"bucket_name={bucket}\")\n",
        "  print(f\"relative_path_to_file = {relative_path_to_file}\")\n",
        "  print(f\"Downloading the file from GCS to a local file in Colab\")\n",
        "  bucket_object = storage_client.bucket(bucket)\n",
        "  print(bucket_object.name)\n",
        "  blob = bucket_object.blob(relative_path_to_file)\n",
        "  print(blob)\n",
        "  blob.download_to_filename(temp_file_path)\n",
        "\n",
        "  print(f\"Reading the local file using spark\")\n",
        "  # Read the file using the local temporary path\n",
        "  spark_df = spark.read.csv(temp_file_path, sep=\",\", header=True)\n",
        "else:\n",
        "  #In GCP, we can read the file directly from Google Storage\n",
        "  print(f\"Reading the file using spark directly from GCS\")\n",
        "  spark_df = spark.read.csv(full_file_path, sep=\",\", header=True, inferSchema = True)\n",
        "\n",
        "spark_df.describe().show()\n",
        "\n",
        "# How many records got loaded?\n",
        "print(f\"Total number of records from data file = {spark_df.count()}\")\n",
        "\n"
      ]
    },
    {
      "cell_type": "code",
      "execution_count": null,
      "id": "345b0416-30c2-4ee6-ab8f-b94fdcae49bd",
      "metadata": {
        "tags": [],
        "id": "345b0416-30c2-4ee6-ab8f-b94fdcae49bd",
        "outputId": "67245ca9-4df1-448c-fa1f-40bf67e71089",
        "colab": {
          "base_uri": "https://localhost:8080/"
        }
      },
      "outputs": [
        {
          "output_type": "stream",
          "name": "stdout",
          "text": [
            "root\n",
            " |-- Name: string (nullable = true)\n",
            " |-- Inception: string (nullable = true)\n",
            " |-- Titanic: string (nullable = true)\n",
            " |-- Avatar: string (nullable = true)\n",
            " |-- The Matrix: string (nullable = true)\n",
            "\n"
          ]
        }
      ],
      "source": [
        "spark_df.printSchema()"
      ]
    },
    {
      "cell_type": "code",
      "source": [
        "spark_df = spark_df.withColumn(\"Inception\", col(\"Inception\").cast(DoubleType()))\n",
        "spark_df = spark_df.withColumn(\"Titanic\", col(\"Titanic\").cast(DoubleType()))\n",
        "spark_df = spark_df.withColumn(\"Avatar\", col(\"Avatar\").cast(DoubleType()))\n",
        "spark_df = spark_df.withColumn(\"The Matrix\", col(\"The Matrix\").cast(DoubleType()))\n",
        "spark_df.printSchema()"
      ],
      "metadata": {
        "colab": {
          "base_uri": "https://localhost:8080/"
        },
        "id": "JaKMUvZ7dVkP",
        "outputId": "6cc07d9c-9e9d-4eca-b58e-3f97a750a4eb"
      },
      "id": "JaKMUvZ7dVkP",
      "execution_count": null,
      "outputs": [
        {
          "output_type": "stream",
          "name": "stdout",
          "text": [
            "root\n",
            " |-- Name: string (nullable = true)\n",
            " |-- Inception: double (nullable = true)\n",
            " |-- Titanic: double (nullable = true)\n",
            " |-- Avatar: double (nullable = true)\n",
            " |-- The Matrix: double (nullable = true)\n",
            "\n"
          ]
        }
      ]
    },
    {
      "cell_type": "code",
      "execution_count": null,
      "id": "3487dc6e-c9c6-41a7-ae87-f3e04b7f2be7",
      "metadata": {
        "tags": [],
        "id": "3487dc6e-c9c6-41a7-ae87-f3e04b7f2be7"
      },
      "outputs": [],
      "source": [
        "# Collect the ratings as a dictionary\n",
        "ratings_dict = spark_df.rdd.map(lambda row: (row[\"Name\"], [row[\"Inception\"], row[\"Titanic\"], row[\"Avatar\"], row[\"The Matrix\"]\n",
        "                                                          ])).collectAsMap()\n"
      ]
    },
    {
      "cell_type": "code",
      "execution_count": null,
      "id": "f707d600-2a42-4445-9f56-5e70bcb1eb2f",
      "metadata": {
        "tags": [],
        "id": "f707d600-2a42-4445-9f56-5e70bcb1eb2f",
        "outputId": "53425b0c-eedf-4209-fe3d-a4e7a92f31a8",
        "colab": {
          "base_uri": "https://localhost:8080/"
        }
      },
      "outputs": [
        {
          "output_type": "stream",
          "name": "stdout",
          "text": [
            "Rachel: [4.5, 2.3, 3.6, 3.0]\n",
            "Larry: [2.1, 4.2, 2.9, 3.3]\n",
            "Edward: [4.7, 1.1, 4.8, 3.4]\n",
            "Gary: [4.2, 2.2, 4.4, 3.8]\n",
            "Debra: [1.8, 4.2, 3.9, 2.7]\n"
          ]
        }
      ],
      "source": [
        "# Display a few entries in the dictionary\n",
        "for key, value in list(ratings_dict.items())[:5]:\n",
        "    print(f\"{key}: {value}\")"
      ]
    },
    {
      "cell_type": "code",
      "execution_count": null,
      "id": "f46156f6-df33-4c90-856d-f986222cdaf0",
      "metadata": {
        "tags": [],
        "id": "f46156f6-df33-4c90-856d-f986222cdaf0",
        "outputId": "05742c6e-cd3a-41f1-8459-962af3b97a49",
        "colab": {
          "base_uri": "https://localhost:8080/"
        }
      },
      "outputs": [
        {
          "output_type": "stream",
          "name": "stdout",
          "text": [
            "[('Rachel', 'Larry'), ('Rachel', 'Edward'), ('Rachel', 'Gary'), ('Rachel', 'Debra'), ('Rachel', 'Carol')]\n"
          ]
        }
      ],
      "source": [
        "# Generate all pairs of users (user_name strings)\n",
        "user_pairs = list(combinations(ratings_dict.keys(), 2))\n",
        "\n",
        "print(user_pairs[:5])\n"
      ]
    },
    {
      "cell_type": "code",
      "execution_count": null,
      "id": "9215db2f-b273-4507-8d40-b130ae96e8cf",
      "metadata": {
        "tags": [],
        "id": "9215db2f-b273-4507-8d40-b130ae96e8cf",
        "outputId": "2177b393-ba28-4f10-9299-e0dfe6e65892",
        "colab": {
          "base_uri": "https://localhost:8080/"
        }
      },
      "outputs": [
        {
          "output_type": "stream",
          "name": "stdout",
          "text": [
            "All unique users involved in results: ['Alexander', 'Amanda', 'Amy', 'Andrew', 'Angela', 'Anna', 'Anthony', 'Ashley', 'Barbara', 'Benjamin', 'Betty', 'Brandon', 'Brenda', 'Brian', 'Carol', 'Carolyn', 'Catherine', 'Charles', 'Christine', 'Christopher', 'Cynthia', 'Daniel', 'David', 'Deborah', 'Debra', 'Dennis', 'Donald', 'Donna', 'Dorothy', 'Edward', 'Elizabeth', 'Emily', 'Emma', 'Eric', 'Frank', 'Gary', 'George', 'Gregory', 'Helen', 'Jack', 'Jacob', 'James', 'Janet', 'Jason', 'Jeffrey', 'Jennifer', 'Jerry', 'Jessica', 'John', 'Jonathan', 'Joseph', 'Joshua', 'Justin', 'Karen', 'Katherine', 'Kathleen', 'Kenneth', 'Kevin', 'Kimberly', 'Larry', 'Laura', 'Linda', 'Lisa', 'Margaret', 'Maria', 'Mark', 'Mary', 'Matthew', 'Melissa', 'Michael', 'Michelle', 'Nancy', 'Nicholas', 'Nicole', 'Pamela', 'Patricia', 'Patrick', 'Paul', 'Rachel', 'Raymond', 'Rebecca', 'Richard', 'Robert', 'Ronald', 'Ruth', 'Ryan', 'Samantha', 'Sandra', 'Sarah', 'Scott', 'Sharon', 'Shirley', 'Stephanie', 'Stephen', 'Steven', 'Susan', 'Thomas', 'Timothy', 'Tyler', 'William']\n"
          ]
        }
      ],
      "source": [
        "results = []\n",
        "all_users = set()\n",
        "\n",
        "for user1_name, user2_name in user_pairs:\n",
        "    ratings_user1 = ratings_dict[user1_name]\n",
        "    ratings_user2 = ratings_dict[user2_name]\n",
        "\n",
        "    try:\n",
        "        correlation, p_value = pearsonr(ratings_user1, ratings_user2)\n",
        "        if correlation < 0:\n",
        "            correlation = 0\n",
        "        results.append((user1_name, user2_name, correlation, p_value))\n",
        "        all_users.update([user1_name, user2_name])\n",
        "    except Exception as e:\n",
        "        print(f\"Skipped pair ({user1_name}, {user2_name}) — Error: {e}\")\n",
        "\n",
        "print(\"All unique users involved in results:\", sorted(all_users))\n"
      ]
    },
    {
      "cell_type": "code",
      "execution_count": null,
      "id": "c725d88b-b318-498d-9df3-06a6cfb139aa",
      "metadata": {
        "tags": [],
        "id": "c725d88b-b318-498d-9df3-06a6cfb139aa"
      },
      "outputs": [],
      "source": [
        "# Step 2: Obtain a list of correlation values for each user and sort them (the higher the correlation the greater the similarity)\n",
        "\n",
        "from collections import defaultdict\n",
        "userDistances = defaultdict(dict)\n",
        "\n",
        "# Task: You will create a dictionary userDistances that has a nested dictionary. The structure looks like the follows:\n",
        "# {'key_userName': {'userName1': correlation between key_userName and userName1, 'userName2': correlation between key_userName and userName 2 ...},...}\n",
        "\n",
        "# Your Code Starts HERE #\n",
        "for user1, user2, correlation, _ in results:\n",
        "    if user2 not in userDistances[user1]:\n",
        "        userDistances[user1][user2] = correlation\n",
        "    if user1 not in userDistances[user2]:\n",
        "        userDistances[user2][user1] = correlation\n",
        "\n",
        "# Your Code Ends HERE#\n",
        "\n"
      ]
    },
    {
      "cell_type": "code",
      "execution_count": null,
      "id": "ac0b55cd-0530-4f34-97fa-0a680de5209f",
      "metadata": {
        "tags": [],
        "id": "ac0b55cd-0530-4f34-97fa-0a680de5209f",
        "colab": {
          "base_uri": "https://localhost:8080/"
        },
        "outputId": "af14608c-d063-45fd-8b92-0c86cff6c8bb"
      },
      "outputs": [
        {
          "output_type": "stream",
          "name": "stdout",
          "text": [
            "{'Sarah': np.float64(0.9961078632130004), 'Gary': np.float64(0.9886431886948035), 'Kevin': np.float64(0.9663526844810868), 'George': np.float64(0.9449897664771802), 'Joshua': np.float64(0.9308308637436923), 'Benjamin': np.float64(0.8992607007433459), 'Andrew': np.float64(0.8939635544523927), 'Jerry': np.float64(0.889934906313498), 'Rachel': np.float64(0.8838821066510862), 'Brenda': np.float64(0.8455686457344881), 'Donald': np.float64(0.843454843734788), 'Jessica': np.float64(0.8400107008414178), 'William': np.float64(0.8173539673956702), 'Sharon': np.float64(0.8138086039790637), 'Ronald': np.float64(0.810454081347384), 'James': np.float64(0.8065174884550839), 'Jennifer': np.float64(0.7848106364871035), 'Carolyn': np.float64(0.7780905296182808), 'Nancy': np.float64(0.7651052880275334), 'Elizabeth': np.float64(0.7395932274474746), 'Emily': np.float64(0.7265138939446738), 'David': np.float64(0.7107839379747571), 'Donna': np.float64(0.7070710723297837), 'Stephanie': np.float64(0.6896281675560764), 'Alexander': np.float64(0.6804225750007863), 'Kathleen': np.float64(0.662998420062301), 'Timothy': np.float64(0.6625800588444849), 'Catherine': np.float64(0.6593026183333233), 'Jason': np.float64(0.6461300931386637), 'Thomas': np.float64(0.6322039809758099), 'Pamela': np.float64(0.5779344204000936), 'Christopher': np.float64(0.5739717912626814), 'Dennis': np.float64(0.5604124522860796), 'Anthony': np.float64(0.5492880622225543), 'Cynthia': np.float64(0.5289421115538018), 'Richard': np.float64(0.4810512755994206), 'Patrick': np.float64(0.45269172345664643), 'Rebecca': np.float64(0.4022409138923945), 'Frank': np.float64(0.39575632893984075), 'Shirley': np.float64(0.3567249624463391), 'Daniel': np.float64(0.30524088281680584), 'Charles': np.float64(0.2834316015568881), 'Matthew': np.float64(0.26372953482886397), 'Michelle': np.float64(0.23469087900319377), 'Amy': np.float64(0.22294465001924985), 'Robert': np.float64(0.14004965346974538), 'Angela': np.float64(0.13231511983379304), 'Sandra': np.float64(0.11843760242387184), 'Helen': np.float64(0.08709149181288497), 'Nicholas': np.float64(0.07118750729711111), 'Joseph': np.float64(0.06147987704036885), 'Katherine': np.float64(0.04378768505884536), 'Ruth': np.float64(0.042421611857721975), 'Larry': 0, 'Debra': 0, 'Carol': 0, 'Kimberly': 0, 'Christine': 0, 'Margaret': 0, 'Patricia': 0, 'Justin': 0, 'Jack': 0, 'Mark': 0, 'Brian': 0, 'Betty': 0, 'Barbara': 0, 'Stephen': 0, 'Anna': 0, 'Janet': 0, 'Michael': 0, 'Scott': 0, 'Ryan': 0, 'Amanda': 0, 'Eric': 0, 'Dorothy': 0, 'Ashley': 0, 'Kenneth': 0, 'Susan': 0, 'Deborah': 0, 'Karen': 0, 'Laura': 0, 'Linda': 0, 'Paul': 0, 'Tyler': 0, 'Samantha': 0, 'Emma': 0, 'Mary': 0, 'Jeffrey': 0, 'Maria': 0, 'John': 0, 'Lisa': 0, 'Jacob': 0, 'Raymond': 0, 'Nicole': 0, 'Jonathan': 0, 'Gregory': 0, 'Melissa': 0, 'Brandon': 0, 'Steven': 0}\n",
            "Edward's neighbors: {'Sarah': np.float64(0.9961078632130004), 'Gary': np.float64(0.9886431886948035), 'Kevin': np.float64(0.9663526844810868)}\n",
            "The three nearest neighbors and their distances to Edward are dict_items([('Sarah', np.float64(0.9961078632130004)), ('Gary', np.float64(0.9886431886948035)), ('Kevin', np.float64(0.9663526844810868))])\n"
          ]
        }
      ],
      "source": [
        "# Step 3 Determine each user's k Nearest Neighbors.\n",
        "\n",
        "\n",
        "#The k Nearest neighbors of each user are essentially the first k users in the sorted inner dictionary in the decendant order (the\n",
        "# higher the number the more similar).\n",
        "\n",
        "for key, inner_dict in userDistances.items():\n",
        "    userDistances[key] = dict(sorted(inner_dict.items(), key = lambda item: item[1], reverse = True))\n",
        "\n",
        "#The print output below should show the key 'Edward' and the corresponding inner dictionary. The values in the inner dictionary should\n",
        "# be sorted. They are the correlations between Rachel and other users\n",
        "\n",
        "print(userDistances[\"Edward\"])\n",
        "\n",
        "k = 3\n",
        "\n",
        "# Task: Now we only retain the first k users' information. Please note that we take not only their names but also their correlation coefficents with the user, as we will use them to\n",
        "# calculate weights later. You will create a dictionary userKNNDistances to store such information. In this dictionary, a user's name is a key and the value of this key is an inner dictionary {nearest neighbor 1: coefficent value; nearest neighbor 2: coefficient value; ...}\n",
        "userKNNDistances = {}\n",
        "# Your Code Starts HERE\n",
        "for key, inner_dict in userDistances.items():\n",
        "    top_k_neighbors = dict(list(inner_dict.items())[:k])\n",
        "    userKNNDistances[key] = top_k_neighbors\n",
        "print(\"Edward's neighbors:\", userKNNDistances[\"Edward\"])\n",
        "\n",
        "# Your Code Ends HERE\n",
        "\n",
        "for key, inner_dict in list(userKNNDistances.items()):\n",
        "    if (key == \"Edward\"):\n",
        "        print(f\"The three nearest neighbors and their distances to {key} are {inner_dict.items()}\")"
      ]
    },
    {
      "cell_type": "code",
      "execution_count": null,
      "id": "47de22c7-ed94-4de7-a5f8-7d7398cb249e",
      "metadata": {
        "tags": [],
        "id": "47de22c7-ed94-4de7-a5f8-7d7398cb249e",
        "colab": {
          "base_uri": "https://localhost:8080/"
        },
        "outputId": "4e1cad85-3b6e-4596-a997-f3c75894581b"
      },
      "outputs": [
        {
          "output_type": "stream",
          "name": "stdout",
          "text": [
            "The three nearnest neighbors of Edward and their weights for calculating Edward's predicted ratings are: {'Sarah': np.float64(0.33753739352852596), 'Gary': np.float64(0.3350079417758976), 'Kevin': np.float64(0.3274546646955763)}\n"
          ]
        }
      ],
      "source": [
        "# Step 4 Compute the weights for the nearest neighbors based on their distances (pearson correlation) for each user\n",
        "# weight of one Nearest Neighbor (NN) = (distance of that NN with userX) / (sum of distances between each NN with the user)\n",
        "# e.g., for Rachel, the weight of Andrew would be 0.9996960054843319/(0.9996960054843319+0.9916728130040291+0.9826757036739959)\n",
        "\n",
        "# You will use the dictionary userWeightNeighbors to record the users' names (keys of this dictionary), and the three nearest neighbors and their weights (an inner dictionary, the neighbors' names are the keys)\n",
        "\n",
        "from collections import defaultdict\n",
        "\n",
        "userWeightNeighbors = defaultdict(dict)\n",
        "\n",
        "for key, inner_dict in userKNNDistances.items():\n",
        "    denominator = sum(inner_dict.values())\n",
        "\n",
        "    weights = {}\n",
        "    for neighbor, similarity in inner_dict.items():\n",
        "        weight = similarity / denominator if denominator > 0 else 0\n",
        "        weights[neighbor] = weight\n",
        "\n",
        "    userWeightNeighbors[key] = weights\n",
        "\n",
        "# Your Code ENDs HERE\n",
        "\n",
        "for key, value in userWeightNeighbors.items():\n",
        "    if (key == \"Edward\"):\n",
        "        print(f\"The three nearnest neighbors of {key} and their weights for calculating {key}'s predicted ratings are: {value}\")\n",
        "\n",
        "\n"
      ]
    },
    {
      "cell_type": "code",
      "execution_count": null,
      "id": "3805e786-35fc-489f-8faa-2ca8e7eb3d06",
      "metadata": {
        "tags": [],
        "id": "3805e786-35fc-489f-8faa-2ca8e7eb3d06",
        "colab": {
          "base_uri": "https://localhost:8080/"
        },
        "outputId": "f54a750d-73ce-4608-a7c8-121e5ddb1408"
      },
      "outputs": [
        {
          "output_type": "stream",
          "name": "stdout",
          "text": [
            "bucket_name=amishr96_data_for_gcp_labs\n",
            "relative_path_to_file = data_for_assignment/missionImpossible_rating (1).csv\n",
            "Downloading the file from GCS to a local file in Colab\n",
            "Reading the local file using spark\n",
            "+-------+---------+------------------+\n",
            "|summary|     Name|Mission Impossible|\n",
            "+-------+---------+------------------+\n",
            "|  count|      100|               100|\n",
            "|   mean|     NULL|1.6710000000000003|\n",
            "| stddev|     NULL|1.6547632501785303|\n",
            "|    min|Alexander|                 0|\n",
            "|    max|  William|               4.8|\n",
            "+-------+---------+------------------+\n",
            "\n"
          ]
        }
      ],
      "source": [
        "# Step 5 Suppose the new Mission Impossible movie just came out and some users have watched it but some are not.\n",
        "# Find out who you would recommend this movie to, assuming that the predicted rating should be 3 (of the 5 rating scale)\n",
        "\n",
        "# 5.1. READ THIS NEW DATA\n",
        "\n",
        "movie_review_file_name = \"missionImpossible_rating (1).csv\"\n",
        "relative_path_to_file = path_to_data_files[1:] + movie_review_file_name\n",
        "full_file_path = \"gs://\" + bucket + \"/\" + relative_path_to_file\n",
        "\n",
        "if RunningInColab == True:\n",
        "  # Download the file from GCS to a local file in the default folder \"/content\" in the runtime machine of colab\n",
        "  temp_file_path = \"/content/\"+ movie_review_file_name\n",
        "    # Initialize a Google Cloud Storage client\n",
        "  storage_client = storage.Client()\n",
        "\n",
        "  # Download the file from GCS to a local file in the default folder \"/content\" in the runtime machine of colab\n",
        "  temp_file_path = \"/content/\"+ movie_review_file_name\n",
        "  print(f\"bucket_name={bucket}\")\n",
        "  print(f\"relative_path_to_file = {relative_path_to_file}\")\n",
        "  print(f\"Downloading the file from GCS to a local file in Colab\")\n",
        "  bucket_object = storage_client.bucket(bucket)\n",
        "  blob = bucket_object.blob(relative_path_to_file)\n",
        "  blob.download_to_filename(temp_file_path)\n",
        "  print(f\"Reading the local file using spark\")\n",
        "  # Read the file using the local temporary path\n",
        "  spark_recommendation_df = spark.read.csv(temp_file_path, sep=\",\", header=True)\n",
        "else:\n",
        "  #In GCP, we can read the file directly from Google Storage\n",
        "  print(f\"Reading the file using spark directly from GCS\")\n",
        "  relative_path_to_file = path_to_data_files[1:] + movie_review_file_name\n",
        "  full_file_path_update = \"gs://\" + bucket + \"/\" + relative_path_to_file\n",
        "  spark_recommendation_df = spark.read.csv(full_file_path, sep=\",\", header=True, inferSchema = True)\n",
        "\n",
        "spark_recommendation_df.describe().show()\n"
      ]
    },
    {
      "cell_type": "code",
      "execution_count": null,
      "id": "491d7c5f-2187-42a0-a476-2945ef0d8e78",
      "metadata": {
        "tags": [],
        "id": "491d7c5f-2187-42a0-a476-2945ef0d8e78",
        "colab": {
          "base_uri": "https://localhost:8080/"
        },
        "outputId": "eb6c059c-978d-4662-848e-27298d0b2bda"
      },
      "outputs": [
        {
          "output_type": "stream",
          "name": "stdout",
          "text": [
            "root\n",
            " |-- Name: string (nullable = true)\n",
            " |-- Mission Impossible: string (nullable = true)\n",
            "\n"
          ]
        }
      ],
      "source": [
        "spark_recommendation_df.printSchema()"
      ]
    },
    {
      "cell_type": "code",
      "source": [
        "# Task: If the value for Mission Impossible is a string type, we need to convert it to a Double Type\n",
        "# (Hint: we have done this earlier in this code file for a different data file)\n",
        "\n",
        "# Your Code Starts Here\n",
        "from pyspark.sql.functions import col\n",
        "\n",
        "# Convert the Mission Impossible column to double\n",
        "spark_recommendation_df = spark_recommendation_df.withColumn(\n",
        "    \"Mission Impossible\", col(\"Mission Impossible\").cast(\"double\")\n",
        ")\n",
        "\n",
        "# Confirm schema change\n",
        "spark_recommendation_df.printSchema()\n",
        "\n",
        "# Optional: show cleaned data\n",
        "spark_recommendation_df.show(5)\n",
        "\n",
        "# Your Code Ends Here"
      ],
      "metadata": {
        "id": "97Wqwsg8fkHF",
        "colab": {
          "base_uri": "https://localhost:8080/"
        },
        "outputId": "21fdf817-7a6c-494a-a35a-e035c4fa8c3e"
      },
      "id": "97Wqwsg8fkHF",
      "execution_count": null,
      "outputs": [
        {
          "output_type": "stream",
          "name": "stdout",
          "text": [
            "root\n",
            " |-- Name: string (nullable = true)\n",
            " |-- Mission Impossible: double (nullable = true)\n",
            "\n",
            "+------+------------------+\n",
            "|  Name|Mission Impossible|\n",
            "+------+------------------+\n",
            "|Rachel|               4.5|\n",
            "| Larry|               2.1|\n",
            "|Edward|               0.0|\n",
            "|  Gary|               4.2|\n",
            "| Debra|               0.0|\n",
            "+------+------------------+\n",
            "only showing top 5 rows\n",
            "\n"
          ]
        }
      ]
    },
    {
      "cell_type": "code",
      "execution_count": null,
      "id": "d3156615-1ea7-466e-88d4-5b0bce4d57c8",
      "metadata": {
        "tags": [],
        "id": "d3156615-1ea7-466e-88d4-5b0bce4d57c8"
      },
      "outputs": [],
      "source": [
        "# 5.2. Find out who has not watched it yet\n",
        "\n",
        "\n",
        "\n",
        "# First, collect the ratings as a dictionary\n",
        "\n",
        "recommendation_dict = spark_recommendation_df.rdd.map(lambda row: (row[\"Name\"], [row[\"Mission Impossible\"]])).collectAsMap()\n",
        "\n",
        "\n",
        "\n"
      ]
    },
    {
      "cell_type": "code",
      "execution_count": null,
      "id": "8d044599-36db-4bf3-bdc4-5ff0b5bc8796",
      "metadata": {
        "tags": [],
        "id": "8d044599-36db-4bf3-bdc4-5ff0b5bc8796",
        "colab": {
          "base_uri": "https://localhost:8080/"
        },
        "outputId": "cc56687b-f004-495a-8a4b-e15523fa7f64"
      },
      "outputs": [
        {
          "output_type": "stream",
          "name": "stdout",
          "text": [
            "['Edward', 'Debra', 'Carol', 'Christine', 'Nancy', 'Richard', 'Patricia', 'Jason', 'Thomas', 'Alexander', 'Mark', 'Anthony', 'Brian', 'Benjamin', 'Anna', 'Angela', 'Janet', 'Kathleen', 'Shirley', 'Dennis', 'Dorothy', 'Joshua', 'Carolyn', 'Andrew', 'Jessica', 'Deborah', 'Katherine', 'Emily', 'Timothy', 'Elizabeth', 'Paul', 'James', 'Tyler', 'Emma', 'William', 'Maria', 'John', 'Jacob', 'Raymond', 'Nicole', 'Gregory', 'Melissa', 'Steven']\n"
          ]
        }
      ],
      "source": [
        "# Next, find out those with values being 0 and put them in a list usersNotWatched\n",
        "\n",
        "# Your Code Starts HERE\n",
        "# Your Code Starts HERE\n",
        "usersNotWatched = (\n",
        "    spark_recommendation_df\n",
        "    .filter((col(\"Mission Impossible\").isNull()) | (col(\"Mission Impossible\") == 0.0))\n",
        "    .select(\"Name\")\n",
        "    .rdd.flatMap(lambda x: x)\n",
        "    .collect()\n",
        ")\n",
        "# Your Code Ends HERE\n",
        "\n",
        "# Your Code Ends HERE\n",
        "\n",
        "print(usersNotWatched)"
      ]
    },
    {
      "cell_type": "code",
      "execution_count": null,
      "id": "8bc2730f-5b09-421a-8302-574f84d4db60",
      "metadata": {
        "tags": [],
        "id": "8bc2730f-5b09-421a-8302-574f84d4db60",
        "colab": {
          "base_uri": "https://localhost:8080/"
        },
        "outputId": "41420fbb-5f55-4cdb-d511-7a20f4d485e6"
      },
      "outputs": [
        {
          "output_type": "stream",
          "name": "stdout",
          "text": [
            "\n",
            "Predicting for: Edward\n",
            "Neighbors & Weights: {'Sarah': np.float64(0.33753739352852596), 'Gary': np.float64(0.3350079417758976), 'Kevin': np.float64(0.3274546646955763)}\n",
            "Sarah rated: 4.7 | weight: 0.33753739352852596\n",
            "Gary rated: 4.2 | weight: 0.3350079417758976\n",
            "Kevin rated: 2.4 | weight: 0.3274546646955763\n",
            "Predicted rating: 3.7793503003122253\n",
            "3.7793503003122253\n"
          ]
        }
      ],
      "source": [
        "# Now, let's find out from this list who we should recommend Mission Impossible, based on the criterion that the predicted\n",
        "# rating should be at least 3. Remember, predicted rating = sum (weight of each Nearest Neighbor * rating given by that neighbor)\n",
        "\n",
        "predictedRatings = {}\n",
        "\n",
        "# First, we calculate predicted ratings for all who have not watched the movie yet\n",
        "for key in usersNotWatched:\n",
        "    predictedRatings[key] = 0\n",
        "    weights = userWeightNeighbors[key].values()\n",
        "    neighbors = userWeightNeighbors[key].keys()\n",
        "\n",
        "    # Your Code Starts HERE\n",
        "    for neighbor in neighbors:\n",
        "        neighbor_rating = spark_recommendation_df.filter(col(\"Name\") == neighbor).select(\"Mission Impossible\").collect()[0][0]\n",
        "        if neighbor_rating is not None:\n",
        "            neighbor_rating = float(neighbor_rating)  # ensure it’s numeric\n",
        "            if neighbor_rating > 0:\n",
        "                weight = userWeightNeighbors[key][neighbor]\n",
        "                predictedRatings[key] += weight * neighbor_rating\n",
        "    # Your Code Ends HERE\n",
        "\n",
        "#Let's print out one from predictedRatings dictionary using Edward as the key\n",
        "\n",
        "print(predictedRatings[\"Edward\"])\n"
      ]
    },
    {
      "cell_type": "code",
      "execution_count": null,
      "id": "cc30e805-23d9-41a7-8bba-ec251358d8df",
      "metadata": {
        "tags": [],
        "id": "cc30e805-23d9-41a7-8bba-ec251358d8df",
        "colab": {
          "base_uri": "https://localhost:8080/"
        },
        "outputId": "4a59b254-a764-41ae-bfc9-4146162a4152"
      },
      "outputs": [
        {
          "output_type": "stream",
          "name": "stdout",
          "text": [
            "This is the list of users we will recommend the new movie Mission Impossible: ['Edward', 'Thomas', 'Andrew']\n"
          ]
        }
      ],
      "source": [
        "# From this predictedRatings dictionary, we will select those whose ratings is at least 3. We use a list forRecommendations to store\n",
        "# the list of these users\n",
        "\n",
        "# Your Code STARTS HERE\n",
        "forRecommendations = [user for user, rating in predictedRatings.items() if rating >= 3]\n",
        "\n",
        "# Your Code ENDS Here\n",
        "\n",
        "print(f\"This is the list of users we will recommend the new movie Mission Impossible: {forRecommendations}\")"
      ]
    },
    {
      "cell_type": "code",
      "execution_count": null,
      "id": "d948c444-cf3a-41b0-b603-2dc204cd4e7d",
      "metadata": {
        "id": "d948c444-cf3a-41b0-b603-2dc204cd4e7d"
      },
      "outputs": [],
      "source": []
    }
  ],
  "metadata": {
    "kernelspec": {
      "display_name": "PySpark",
      "language": "python",
      "name": "pyspark"
    },
    "language_info": {
      "codemirror_mode": {
        "name": "ipython",
        "version": 3
      },
      "file_extension": ".py",
      "mimetype": "text/x-python",
      "name": "python",
      "nbconvert_exporter": "python",
      "pygments_lexer": "ipython3",
      "version": "3.11.8"
    },
    "colab": {
      "provenance": []
    }
  },
  "nbformat": 4,
  "nbformat_minor": 5
}