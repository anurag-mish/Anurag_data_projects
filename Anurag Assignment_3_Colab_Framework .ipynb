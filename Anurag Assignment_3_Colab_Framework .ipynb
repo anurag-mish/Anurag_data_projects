{
  "cells": [
    {
      "cell_type": "code",
      "source": [
        "# Check if the code is running in Colab -- copy/paste this code to your project step 3\n",
        "if 'google.colab' in str(get_ipython()):\n",
        "  print('Running on CoLab')\n",
        "  RunningInColab = True\n",
        "else:\n",
        "  print('Not running on CoLab')\n",
        "  RunningInColab = False"
      ],
      "metadata": {
        "id": "QVOGSVpaNyIe",
        "outputId": "d95d3cd2-7836-4593-97f8-c2fa4ad9446d",
        "colab": {
          "base_uri": "https://localhost:8080/"
        }
      },
      "id": "QVOGSVpaNyIe",
      "execution_count": 2,
      "outputs": [
        {
          "output_type": "stream",
          "name": "stdout",
          "text": [
            "Running on CoLab\n"
          ]
        }
      ]
    },
    {
      "cell_type": "code",
      "execution_count": 4,
      "id": "989ba0f0-eca7-4185-b88b-0c8a0a18bcc6",
      "metadata": {
        "tags": [],
        "id": "989ba0f0-eca7-4185-b88b-0c8a0a18bcc6",
        "outputId": "3db90e56-c57b-426c-e76f-68a17797cf1a",
        "colab": {
          "base_uri": "https://localhost:8080/"
        }
      },
      "outputs": [
        {
          "output_type": "stream",
          "name": "stdout",
          "text": [
            "<class 'dict'>\n",
            "[('Melissa', 'Veronica'), ('Melissa', 'Bob'), ('Veronica', 'Bob')]\n",
            "User Pair Correlations:\n",
            "\n",
            "Melissa & Veronica: Pearson Correlation = 0.9663, p-value = 0.0337\n",
            "Melissa & Bob: Pearson Correlation = 0.1930, p-value = 0.8070\n",
            "Veronica & Bob: Pearson Correlation = 0.3836, p-value = 0.6164\n"
          ]
        }
      ],
      "source": [
        "# PySpark Pearson correlation function for distributed data processing\n",
        "\n",
        "from pyspark.sql import SparkSession\n",
        "from pyspark.sql.functions import col, avg, sqrt\n",
        "from pyspark.sql.types import StructType, StructField, FloatType, IntegerType\n",
        "from scipy.stats import pearsonr\n",
        "from itertools import combinations\n",
        "\n",
        "# Example dataset (replace with your data from GCS)\n",
        "data = [\n",
        "    (\"Melissa\", [4.0, 5.0, 3.8, 4.7]),\n",
        "    (\"Veronica\", [3.0, 4.5, 3.2, 4.2]),\n",
        "    (\"Bob\", [1.0, 2.0, 3.2, 4.5])\n",
        "]\n",
        "# Sample data schema\n",
        "schema = [\"user_name\", \"rating_list\"]\n",
        "\n",
        "# Create a DataFrame\n",
        "if RunningInColab == True:\n",
        "  spark = SparkSession.builder.master(\"local[*]\").getOrCreate()  # we create a spark session if in Google Colab\n",
        "df = spark.createDataFrame(data, schema)\n",
        "\n",
        "# Collect the ratings as a dictionary\n",
        "ratings_dict = df.rdd.map(lambda row: (row[\"user_name\"], row[\"rating_list\"])).collectAsMap()\n",
        "print(type(ratings_dict))\n",
        "\n",
        "\n",
        "# Generate all pairs of users (user_name strings)\n",
        "user_pairs = list(combinations(ratings_dict.keys(), 2))\n",
        "print(user_pairs)\n",
        "\n",
        "\n",
        "# Task 1: Your Code Starts Here to compute correlations for all pairs\n",
        "\n",
        "# Hint: For each pair, you will obtain the ratings for two users from the dictionary,\n",
        "# and then compute correlation for the two users using Pearson correlation\n",
        "\n",
        "correlation_results = {}\n",
        "\n",
        "for user1, user2 in user_pairs:\n",
        "    ratings1 = ratings_dict[user1]\n",
        "    ratings2 = ratings_dict[user2]\n",
        "\n",
        "    # Compute Pearson correlation\n",
        "    correlation, p_value = pearsonr(ratings1, ratings2)\n",
        "\n",
        "    # Store results\n",
        "    correlation_results[(user1, user2)] = (correlation, p_value)\n",
        "# Your Code Ends Here for the computation\n",
        "\n",
        "\n",
        "\n",
        "# Task 2: Your Code Starts Here to print results\n",
        "print(\"User Pair Correlations:\\n\")\n",
        "for (user1, user2), (correlation, p_value) in correlation_results.items():\n",
        "    print(f\"{user1} & {user2}: Pearson Correlation = {correlation:.4f}, p-value = {p_value:.4f}\")\n",
        "# Your Code Ends Here to print results\n"
      ]
    },
    {
      "cell_type": "code",
      "execution_count": null,
      "id": "d328c311-9aa0-4ec0-8900-bed2191e8776",
      "metadata": {
        "id": "d328c311-9aa0-4ec0-8900-bed2191e8776"
      },
      "outputs": [],
      "source": []
    },
    {
      "cell_type": "code",
      "source": [],
      "metadata": {
        "id": "ODLhuRO4Nm3J"
      },
      "id": "ODLhuRO4Nm3J",
      "execution_count": null,
      "outputs": []
    }
  ],
  "metadata": {
    "kernelspec": {
      "display_name": "PySpark",
      "language": "python",
      "name": "pyspark"
    },
    "language_info": {
      "codemirror_mode": {
        "name": "ipython",
        "version": 3
      },
      "file_extension": ".py",
      "mimetype": "text/x-python",
      "name": "python",
      "nbconvert_exporter": "python",
      "pygments_lexer": "ipython3",
      "version": "3.11.8"
    },
    "colab": {
      "provenance": []
    }
  },
  "nbformat": 4,
  "nbformat_minor": 5
}